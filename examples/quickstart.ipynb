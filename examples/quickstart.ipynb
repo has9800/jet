{
  "cells": [
    {
      "cell_type": "markdown",
      "metadata": {},
      "source": [
        "# Jet AI - Quick Start Guide\n",
        "\n",
        "This notebook demonstrates how to use Jet AI to fine-tune language models with just a few lines of code.\n",
        "\n",
        "## What You'll Learn\n",
        "- How to fine-tune a model on a dataset\n",
        "- How to evaluate your fine-tuned model\n",
        "- How to chat with your model\n",
        "- How to explore available models and datasets\n"
      ]
    },
    {
      "cell_type": "markdown",
      "metadata": {},
      "source": [
        "## 1. Installation and Setup\n"
      ]
    },
    {
      "cell_type": "code",
      "execution_count": null,
      "metadata": {},
      "outputs": [],
      "source": [
        "# Install Jet AI (if not already installed)\n",
        "# !pip install jet-ai-sdk\n",
        "\n",
        "# Import Jet AI\n",
        "import jet\n",
        "from jet import JetTrainer, quick_train, list_available_models, list_available_datasets\n",
        "\n",
        "print(\"🚀 Jet AI imported successfully!\")\n",
        "print(\"📚 Available models include Phi-3, Phi-4, and GPT-OSS:20B\")\n"
      ]
    }
  ],
  "metadata": {
    "language_info": {
      "name": "python"
    }
  },
  "nbformat": 4,
  "nbformat_minor": 2
}
